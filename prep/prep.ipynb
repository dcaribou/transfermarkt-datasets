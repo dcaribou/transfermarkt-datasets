{
 "cells": [
  {
   "cell_type": "code",
   "execution_count": 1,
   "metadata": {},
   "outputs": [
    {
     "output_type": "execute_result",
     "data": {
      "text/plain": [
       "0"
      ]
     },
     "metadata": {},
     "execution_count": 1
    }
   ],
   "source": [
    "# obtain raw assets\n",
    "import os\n",
    "os.system(\"dvc pull\")"
   ]
  },
  {
   "cell_type": "code",
   "execution_count": 2,
   "metadata": {},
   "outputs": [],
   "source": [
    "# initialize asset runner\n",
    "\n",
    "import pandas as pd\n",
    "from asset_runner import AssetRunner\n",
    "\n",
    "runner = AssetRunner('../data/raw')"
   ]
  },
  {
   "cell_type": "code",
   "execution_count": 3,
   "metadata": {},
   "outputs": [
    {
     "output_type": "stream",
     "name": "stderr",
     "text": [
      "--- Processing 4 assets ---\n",
      "Name         File\n",
      "-----------  ----------------------------\n",
      "clubs        ../data/raw/clubs.json\n",
      "leagues      ../data/raw/leagues.json\n",
      "players      ../data/raw/players.json\n",
      "appearances  ../data/raw/appearances.json\n",
      "\n",
      "-> Processing clubs\n",
      "       club_id          name domestic_competition league_id\n",
      "count      241           241                  241       241\n",
      "unique     241           241                   14        14\n",
      "top       2381  rkc-waalwijk                  TR1       TR1\n",
      "freq         1             1                   21        21\n",
      "All 1 validations passed!\n",
      "\n",
      "-> Processing leagues\n",
      "       league_id          name confederation\n",
      "count         14            14            14\n",
      "unique        14            13             1\n",
      "top           L1  premier-liga        europa\n",
      "freq           1             2            14\n",
      "All 1 validations passed!\n",
      "\n",
      "-> Processing players\n",
      "       player_id      name club_id  \\\n",
      "count       6730      6730    6730   \n",
      "unique      6724      6685     241   \n",
      "top        93720  paulinho    3999   \n",
      "freq           3         5      36   \n",
      "\n",
      "                                                      url  \n",
      "count                                                6730  \n",
      "unique                                               6724  \n",
      "top     https://www.transfermarkt.co.uk/alexandre-laca...  \n",
      "freq                                                    3  \n",
      "All 0 validations passed!\n",
      "\n",
      "-> Processing appearances\n",
      "              goals       assists  yellow_cards     red_cards  minutes_played  \\\n",
      "count  93322.000000  93322.000000  93322.000000  93322.000000    93322.000000   \n",
      "mean       0.089175      0.068580      0.139045      0.003793       67.140353   \n",
      "std        0.316360      0.270158      0.356280      0.061473       30.590256   \n",
      "min        0.000000      0.000000      0.000000      0.000000        0.000000   \n",
      "25%        0.000000      0.000000      0.000000      0.000000       45.000000   \n",
      "50%        0.000000      0.000000      0.000000      0.000000       89.000000   \n",
      "75%        0.000000      0.000000      0.000000      0.000000       90.000000   \n",
      "max        5.000000      4.000000      2.000000      1.000000       90.000000   \n",
      "\n",
      "       home_club_id  away_club_id      player_id  player_club_id  \\\n",
      "count  93322.000000  93322.000000   93322.000000    93322.000000   \n",
      "mean    3962.046281   3903.778027  248831.915647     3867.161945   \n",
      "std     9643.550020   9516.673056  161587.599339     9449.557608   \n",
      "min        3.000000      3.000000    3333.000000        3.000000   \n",
      "25%      338.000000    347.000000  111961.000000      338.000000   \n",
      "50%      964.000000    969.000000  227805.000000      964.000000   \n",
      "75%     2727.000000   2727.000000  354362.000000     2727.000000   \n",
      "max    61825.000000  61825.000000  847759.000000    61825.000000   \n",
      "\n",
      "             game_id  appearance_id   season  \n",
      "count   93322.000000   93322.000000  93322.0  \n",
      "mean    50711.730632   60702.672875   2020.0  \n",
      "std     33985.265442   34109.895796      0.0  \n",
      "min         1.000000       1.000000   2020.0  \n",
      "25%     20058.000000   31176.250000   2020.0  \n",
      "50%     47350.000000   61188.500000   2020.0  \n",
      "75%     78772.000000   90172.750000   2020.0  \n",
      "max    117838.000000  118865.000000   2020.0  \n",
      "All 12 validations passed!\n",
      "\n"
     ]
    }
   ],
   "source": [
    "# process assets \n",
    "runner.process_assets()"
   ]
  },
  {
   "cell_type": "code",
   "execution_count": 4,
   "metadata": {},
   "outputs": [
    {
     "output_type": "stream",
     "name": "stdout",
     "text": [
      "Name         File\n-----------  ----------------------------\nclubs        ../data/raw/clubs.json\nleagues      ../data/raw/leagues.json\nplayers      ../data/raw/players.json\nappearances  ../data/raw/appearances.json\n"
     ]
    }
   ],
   "source": [
    "# list available assets\n",
    "print(runner.prettify_asset_processors())"
   ]
  },
  {
   "cell_type": "code",
   "execution_count": 5,
   "metadata": {},
   "outputs": [
    {
     "output_type": "execute_result",
     "data": {
      "text/plain": [
       "'clubs'"
      ]
     },
     "metadata": {},
     "execution_count": 5
    }
   ],
   "source": [
    "# get a reference to one asset\n",
    "asset = runner.assets[0]\n",
    "asset['name']"
   ]
  },
  {
   "cell_type": "code",
   "execution_count": 6,
   "metadata": {},
   "outputs": [
    {
     "output_type": "execute_result",
     "data": {
      "text/plain": [
       "       club_id          name domestic_competition league_id\n",
       "count      241           241                  241       241\n",
       "unique     241           241                   14        14\n",
       "top       2381  rkc-waalwijk                  TR1       TR1\n",
       "freq         1             1                   21        21"
      ],
      "text/html": "<div>\n<style scoped>\n    .dataframe tbody tr th:only-of-type {\n        vertical-align: middle;\n    }\n\n    .dataframe tbody tr th {\n        vertical-align: top;\n    }\n\n    .dataframe thead th {\n        text-align: right;\n    }\n</style>\n<table border=\"1\" class=\"dataframe\">\n  <thead>\n    <tr style=\"text-align: right;\">\n      <th></th>\n      <th>club_id</th>\n      <th>name</th>\n      <th>domestic_competition</th>\n      <th>league_id</th>\n    </tr>\n  </thead>\n  <tbody>\n    <tr>\n      <th>count</th>\n      <td>241</td>\n      <td>241</td>\n      <td>241</td>\n      <td>241</td>\n    </tr>\n    <tr>\n      <th>unique</th>\n      <td>241</td>\n      <td>241</td>\n      <td>14</td>\n      <td>14</td>\n    </tr>\n    <tr>\n      <th>top</th>\n      <td>2381</td>\n      <td>rkc-waalwijk</td>\n      <td>TR1</td>\n      <td>TR1</td>\n    </tr>\n    <tr>\n      <th>freq</th>\n      <td>1</td>\n      <td>1</td>\n      <td>21</td>\n      <td>21</td>\n    </tr>\n  </tbody>\n</table>\n</div>"
     },
     "metadata": {},
     "execution_count": 6
    }
   ],
   "source": [
    "# get a reference to the pandas dataframes containing raw and prepared data\n",
    "clubs = asset['processor']\n",
    "\n",
    "raw = clubs.raw_df\n",
    "prep = clubs.prep_df\n",
    "\n",
    "prep.describe()"
   ]
  },
  {
   "cell_type": "code",
   "execution_count": 7,
   "metadata": {},
   "outputs": [
    {
     "output_type": "execute_result",
     "data": {
      "text/plain": [
       "0       L1\n",
       "1       L1\n",
       "2       L1\n",
       "3       L1\n",
       "4       L1\n",
       "      ... \n",
       "236    TR1\n",
       "237    TR1\n",
       "238    TR1\n",
       "239    TR1\n",
       "240    TR1\n",
       "Name: 4, Length: 241, dtype: object"
      ]
     },
     "metadata": {},
     "execution_count": 7
    }
   ],
   "source": [
    "normalized = clubs.checkpoints['json_normalized']\n",
    "normalized['parent.href'].str.split('/', 5, True)[4]"
   ]
  },
  {
   "cell_type": "code",
   "execution_count": 8,
   "metadata": {},
   "outputs": [
    {
     "output_type": "execute_result",
     "data": {
      "text/plain": [
       "     player_id                 name club_id  \\\n",
       "0       202591    benjamin-henrichs   23826   \n",
       "1       238407    alexander-sorloth   23826   \n",
       "2       344695      dayot-upamecano   23826   \n",
       "3        21726    philipp-tschauner   23826   \n",
       "4       402008       amadou-haidara   23826   \n",
       "...        ...                  ...     ...   \n",
       "6725    112062       junior-caicara    6890   \n",
       "6726     51894           mert-gunok    6890   \n",
       "6727    110695     omer-ali-sahiner    6890   \n",
       "6728    110708  fredrik-gulbrandsen    6890   \n",
       "6729    282615      mete-kaan-demir    6890   \n",
       "\n",
       "                                                    url  \n",
       "0     https://www.transfermarkt.co.uk/benjamin-henri...  \n",
       "1     https://www.transfermarkt.co.uk/alexander-sorl...  \n",
       "2     https://www.transfermarkt.co.uk/dayot-upamecan...  \n",
       "3     https://www.transfermarkt.co.uk/philipp-tschau...  \n",
       "4     https://www.transfermarkt.co.uk/amadou-haidara...  \n",
       "...                                                 ...  \n",
       "6725  https://www.transfermarkt.co.uk/junior-caicara...  \n",
       "6726  https://www.transfermarkt.co.uk/mert-gunok/pro...  \n",
       "6727  https://www.transfermarkt.co.uk/omer-ali-sahin...  \n",
       "6728  https://www.transfermarkt.co.uk/fredrik-gulbra...  \n",
       "6729  https://www.transfermarkt.co.uk/mete-kaan-demi...  \n",
       "\n",
       "[6730 rows x 4 columns]"
      ],
      "text/html": "<div>\n<style scoped>\n    .dataframe tbody tr th:only-of-type {\n        vertical-align: middle;\n    }\n\n    .dataframe tbody tr th {\n        vertical-align: top;\n    }\n\n    .dataframe thead th {\n        text-align: right;\n    }\n</style>\n<table border=\"1\" class=\"dataframe\">\n  <thead>\n    <tr style=\"text-align: right;\">\n      <th></th>\n      <th>player_id</th>\n      <th>name</th>\n      <th>club_id</th>\n      <th>url</th>\n    </tr>\n  </thead>\n  <tbody>\n    <tr>\n      <th>0</th>\n      <td>202591</td>\n      <td>benjamin-henrichs</td>\n      <td>23826</td>\n      <td>https://www.transfermarkt.co.uk/benjamin-henri...</td>\n    </tr>\n    <tr>\n      <th>1</th>\n      <td>238407</td>\n      <td>alexander-sorloth</td>\n      <td>23826</td>\n      <td>https://www.transfermarkt.co.uk/alexander-sorl...</td>\n    </tr>\n    <tr>\n      <th>2</th>\n      <td>344695</td>\n      <td>dayot-upamecano</td>\n      <td>23826</td>\n      <td>https://www.transfermarkt.co.uk/dayot-upamecan...</td>\n    </tr>\n    <tr>\n      <th>3</th>\n      <td>21726</td>\n      <td>philipp-tschauner</td>\n      <td>23826</td>\n      <td>https://www.transfermarkt.co.uk/philipp-tschau...</td>\n    </tr>\n    <tr>\n      <th>4</th>\n      <td>402008</td>\n      <td>amadou-haidara</td>\n      <td>23826</td>\n      <td>https://www.transfermarkt.co.uk/amadou-haidara...</td>\n    </tr>\n    <tr>\n      <th>...</th>\n      <td>...</td>\n      <td>...</td>\n      <td>...</td>\n      <td>...</td>\n    </tr>\n    <tr>\n      <th>6725</th>\n      <td>112062</td>\n      <td>junior-caicara</td>\n      <td>6890</td>\n      <td>https://www.transfermarkt.co.uk/junior-caicara...</td>\n    </tr>\n    <tr>\n      <th>6726</th>\n      <td>51894</td>\n      <td>mert-gunok</td>\n      <td>6890</td>\n      <td>https://www.transfermarkt.co.uk/mert-gunok/pro...</td>\n    </tr>\n    <tr>\n      <th>6727</th>\n      <td>110695</td>\n      <td>omer-ali-sahiner</td>\n      <td>6890</td>\n      <td>https://www.transfermarkt.co.uk/omer-ali-sahin...</td>\n    </tr>\n    <tr>\n      <th>6728</th>\n      <td>110708</td>\n      <td>fredrik-gulbrandsen</td>\n      <td>6890</td>\n      <td>https://www.transfermarkt.co.uk/fredrik-gulbra...</td>\n    </tr>\n    <tr>\n      <th>6729</th>\n      <td>282615</td>\n      <td>mete-kaan-demir</td>\n      <td>6890</td>\n      <td>https://www.transfermarkt.co.uk/mete-kaan-demi...</td>\n    </tr>\n  </tbody>\n</table>\n<p>6730 rows × 4 columns</p>\n</div>"
     },
     "metadata": {},
     "execution_count": 8
    }
   ],
   "source": [
    "# quickly get a reference to the underlying asset dataframe\n",
    "players = runner.get_asset_df('players')"
   ]
  },
  {
   "cell_type": "code",
   "execution_count": 9,
   "metadata": {},
   "outputs": [
    {
     "output_type": "stream",
     "name": "stdout",
     "text": [
      "           name  club_id  url\nplayer_id                    \n10003         1        1    1\n46252         1        1    1\n462348        1        1    1\n462329        1        1    1\n462285        1        1    1\n...         ...      ...  ...\n50057         2        2    2\n418560        2        2    2\n344152        2        2    2\n542586        2        2    2\n93720         3        3    3\n\n[6724 rows x 3 columns]\n"
     ]
    },
    {
     "output_type": "execute_result",
     "data": {
      "text/plain": [
       "     player_id           name club_id  \\\n",
       "3038    542586  illan-meslier     583   \n",
       "4236    542586  illan-meslier     399   \n",
       "\n",
       "                                                    url  \n",
       "3038  https://www.transfermarkt.co.uk/illan-meslier/...  \n",
       "4236  https://www.transfermarkt.co.uk/illan-meslier/...  "
      ],
      "text/html": "<div>\n<style scoped>\n    .dataframe tbody tr th:only-of-type {\n        vertical-align: middle;\n    }\n\n    .dataframe tbody tr th {\n        vertical-align: top;\n    }\n\n    .dataframe thead th {\n        text-align: right;\n    }\n</style>\n<table border=\"1\" class=\"dataframe\">\n  <thead>\n    <tr style=\"text-align: right;\">\n      <th></th>\n      <th>player_id</th>\n      <th>name</th>\n      <th>club_id</th>\n      <th>url</th>\n    </tr>\n  </thead>\n  <tbody>\n    <tr>\n      <th>3038</th>\n      <td>542586</td>\n      <td>illan-meslier</td>\n      <td>583</td>\n      <td>https://www.transfermarkt.co.uk/illan-meslier/...</td>\n    </tr>\n    <tr>\n      <th>4236</th>\n      <td>542586</td>\n      <td>illan-meslier</td>\n      <td>399</td>\n      <td>https://www.transfermarkt.co.uk/illan-meslier/...</td>\n    </tr>\n  </tbody>\n</table>\n</div>"
     },
     "metadata": {},
     "execution_count": 9
    }
   ],
   "source": [
    "\n",
    "\n",
    "print(players.groupby(['player_id']).count().sort_values(by='name'))\n",
    "\n",
    "players[players['player_id'] == '542586']"
   ]
  }
 ],
 "metadata": {
  "celltoolbar": "Tags",
  "kernelspec": {
   "display_name": "Python (player-scores)",
   "language": "python",
   "name": "player-scores"
  },
  "language_info": {
   "codemirror_mode": {
    "name": "ipython",
    "version": 3
   },
   "file_extension": ".py",
   "mimetype": "text/x-python",
   "name": "python",
   "nbconvert_exporter": "python",
   "pygments_lexer": "ipython3",
   "version": "3.8.5-final"
  }
 },
 "nbformat": 4,
 "nbformat_minor": 4
}