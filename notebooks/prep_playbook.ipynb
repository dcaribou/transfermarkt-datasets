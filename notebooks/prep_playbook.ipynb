{
 "cells": [
  {
   "cell_type": "code",
   "execution_count": 3,
   "metadata": {},
   "outputs": [],
   "source": [
    "# obtain raw assets\n",
    "import os\n",
    "os.system(\"dvc pull\")\n",
    "\n",
    "home = os.path.expanduser(\"~/transfermarkt-datasets\") \n",
    "os.chdir(home)"
   ]
  },
  {
   "cell_type": "code",
   "execution_count": 4,
   "metadata": {},
   "outputs": [],
   "source": [
    "# initialize asset runner\n",
    "\n",
    "import pandas as pd\n",
    "from prep.asset_runner import AssetRunner\n",
    "\n",
    "runner = AssetRunner('data/raw')"
   ]
  },
  {
   "cell_type": "code",
   "execution_count": 5,
   "metadata": {},
   "outputs": [
    {
     "output_type": "stream",
     "name": "stderr",
     "text": [
      "--- Processing 5 assets ---\n",
      "Name         Path      Seasons\n",
      "-----------  --------  ------------------------------------\n",
      "games        data/raw  [2016, 2017, 2018, 2019, 2020, 2021]\n",
      "clubs        data/raw  [2016, 2017, 2018, 2019, 2020, 2021]\n",
      "players      data/raw  [2016, 2017, 2018, 2019, 2020, 2021]\n",
      "appearances  data/raw  [2016, 2017, 2018, 2019, 2020, 2021]\n",
      "leagues      data/raw  [2016, 2017, 2018, 2019, 2020, 2021]\n",
      "\n",
      "-> Processing games\n",
      "             season  home_club_goals  away_club_goals\n",
      "count  19906.000000     19906.000000     19906.000000\n",
      "mean    2017.987793         1.515674         1.199136\n",
      "std        1.438761         1.303361         1.166833\n",
      "min     2015.000000         0.000000         0.000000\n",
      "25%     2017.000000         1.000000         0.000000\n",
      "50%     2018.000000         1.000000         1.000000\n",
      "75%     2019.000000         2.000000         2.000000\n",
      "max     2021.000000        10.000000        13.000000\n",
      "All 0 validations passed!\n",
      "\n",
      "-> Processing clubs\n",
      "       total_market_value  squad_size  average_age  foreigners_number  \\\n",
      "count          342.000000  351.000000   351.000000         351.000000   \n",
      "mean            99.236404   26.860399    24.830769          11.686610   \n",
      "std            168.758023    7.236842     4.285766           6.598166   \n",
      "min              1.260000    0.000000     0.000000           0.000000   \n",
      "25%              9.395000   24.000000    24.500000           7.000000   \n",
      "50%             24.290000   27.000000    25.400000          11.000000   \n",
      "75%            100.805000   31.000000    26.400000          16.000000   \n",
      "max            905.540000   53.000000    29.400000          37.000000   \n",
      "\n",
      "       foreigners_percentage  national_team_players  stadium_seats  \n",
      "count             333.000000             351.000000     351.000000  \n",
      "mean               43.596096               5.296296   26383.683761  \n",
      "std                18.193295               5.303687   18049.491510  \n",
      "min                 3.300000               0.000000       0.000000  \n",
      "25%                31.300000               1.000000   12325.000000  \n",
      "50%                43.500000               3.000000   21577.000000  \n",
      "75%                56.000000               8.000000   34807.500000  \n",
      "max               100.000000              23.000000   99354.000000  \n",
      "All 1 validations passed!\n",
      "\n",
      "-> Processing players\n",
      "       height_in_cm\n",
      "count  18817.000000\n",
      "mean     171.055216\n",
      "std       44.303029\n",
      "min        0.000000\n",
      "25%      176.000000\n",
      "50%      182.000000\n",
      "75%      187.000000\n",
      "max      206.000000\n",
      "All 0 validations passed!\n",
      "\n",
      "-> Processing appearances\n",
      "               goals        assists  minutes_played   yellow_cards  \\\n",
      "count  556563.000000  556563.000000   556563.000000  556563.000000   \n",
      "mean        0.093842       0.071293       70.135613       0.150305   \n",
      "std         0.326530       0.276233       29.477219       0.368640   \n",
      "min         0.000000       0.000000        0.000000       0.000000   \n",
      "25%         0.000000       0.000000       57.000000       0.000000   \n",
      "50%         0.000000       0.000000       90.000000       0.000000   \n",
      "75%         0.000000       0.000000       90.000000       0.000000   \n",
      "max         5.000000       4.000000       90.000000       2.000000   \n",
      "\n",
      "           red_cards  \n",
      "count  556563.000000  \n",
      "mean        0.003597  \n",
      "std         0.059868  \n",
      "min         0.000000  \n",
      "25%         0.000000  \n",
      "50%         0.000000  \n",
      "75%         0.000000  \n",
      "max         1.000000  \n",
      "All 0 validations passed!\n",
      "\n",
      "-> Processing leagues\n",
      "       league_id          name confederation\n",
      "count         14            14            14\n",
      "unique        14            13             1\n",
      "top          GB1  premier-liga        europa\n",
      "freq           1             2            14\n",
      "All 1 validations passed!\n",
      "\n"
     ]
    }
   ],
   "source": [
    "# process assets \n",
    "runner.process_assets()"
   ]
  },
  {
   "cell_type": "code",
   "execution_count": 10,
   "metadata": {},
   "outputs": [
    {
     "output_type": "stream",
     "name": "stdout",
     "text": [
      "Name         Path      Seasons\n-----------  --------  ------------------------------------\ngames        data/raw  [2016, 2017, 2018, 2019, 2020, 2021]\nclubs        data/raw  [2016, 2017, 2018, 2019, 2020, 2021]\nplayers      data/raw  [2016, 2017, 2018, 2019, 2020, 2021]\nappearances  data/raw  [2016, 2017, 2018, 2019, 2020, 2021]\nleagues      data/raw  [2016, 2017, 2018, 2019, 2020, 2021]\n"
     ]
    }
   ],
   "source": [
    "# list available assets\n",
    "print(runner.prettify_asset_processors())"
   ]
  },
  {
   "cell_type": "code",
   "execution_count": 34,
   "metadata": {},
   "outputs": [
    {
     "output_type": "execute_result",
     "data": {
      "text/plain": [
       "'games'"
      ]
     },
     "metadata": {},
     "execution_count": 34
    }
   ],
   "source": [
    "# get a reference to one asset\n",
    "asset = runner.assets[0]\n",
    "asset['name']"
   ]
  },
  {
   "cell_type": "code",
   "execution_count": 35,
   "metadata": {},
   "outputs": [
    {
     "output_type": "execute_result",
     "data": {
      "text/plain": [
       "             season  home_club_goals  away_club_goals\n",
       "count  19906.000000     19906.000000     19906.000000\n",
       "mean    2017.987793         1.515674         1.199136\n",
       "std        1.438761         1.303361         1.166833\n",
       "min     2015.000000         0.000000         0.000000\n",
       "25%     2017.000000         1.000000         0.000000\n",
       "50%     2018.000000         1.000000         1.000000\n",
       "75%     2019.000000         2.000000         2.000000\n",
       "max     2021.000000        10.000000        13.000000"
      ],
      "text/html": "<div>\n<style scoped>\n    .dataframe tbody tr th:only-of-type {\n        vertical-align: middle;\n    }\n\n    .dataframe tbody tr th {\n        vertical-align: top;\n    }\n\n    .dataframe thead th {\n        text-align: right;\n    }\n</style>\n<table border=\"1\" class=\"dataframe\">\n  <thead>\n    <tr style=\"text-align: right;\">\n      <th></th>\n      <th>season</th>\n      <th>home_club_goals</th>\n      <th>away_club_goals</th>\n    </tr>\n  </thead>\n  <tbody>\n    <tr>\n      <th>count</th>\n      <td>19906.000000</td>\n      <td>19906.000000</td>\n      <td>19906.000000</td>\n    </tr>\n    <tr>\n      <th>mean</th>\n      <td>2017.987793</td>\n      <td>1.515674</td>\n      <td>1.199136</td>\n    </tr>\n    <tr>\n      <th>std</th>\n      <td>1.438761</td>\n      <td>1.303361</td>\n      <td>1.166833</td>\n    </tr>\n    <tr>\n      <th>min</th>\n      <td>2015.000000</td>\n      <td>0.000000</td>\n      <td>0.000000</td>\n    </tr>\n    <tr>\n      <th>25%</th>\n      <td>2017.000000</td>\n      <td>1.000000</td>\n      <td>0.000000</td>\n    </tr>\n    <tr>\n      <th>50%</th>\n      <td>2018.000000</td>\n      <td>1.000000</td>\n      <td>1.000000</td>\n    </tr>\n    <tr>\n      <th>75%</th>\n      <td>2019.000000</td>\n      <td>2.000000</td>\n      <td>2.000000</td>\n    </tr>\n    <tr>\n      <th>max</th>\n      <td>2021.000000</td>\n      <td>10.000000</td>\n      <td>13.000000</td>\n    </tr>\n  </tbody>\n</table>\n</div>"
     },
     "metadata": {},
     "execution_count": 35
    }
   ],
   "source": [
    "# get a reference to the pandas dataframes containing raw and prepared data\n",
    "clubs = asset['processor']\n",
    "\n",
    "raw = clubs.raw_dfs\n",
    "prep = clubs.prep_df\n",
    "\n",
    "prep.describe()"
   ]
  },
  {
   "cell_type": "code",
   "execution_count": 7,
   "metadata": {},
   "outputs": [
    {
     "output_type": "execute_result",
     "data": {
      "text/plain": [
       "0       L1\n",
       "1       L1\n",
       "2       L1\n",
       "3       L1\n",
       "4       L1\n",
       "      ... \n",
       "236    TR1\n",
       "237    TR1\n",
       "238    TR1\n",
       "239    TR1\n",
       "240    TR1\n",
       "Name: 4, Length: 241, dtype: object"
      ]
     },
     "metadata": {},
     "execution_count": 7
    }
   ],
   "source": [
    "normalized = clubs.checkpoints['json_normalized']\n",
    "normalized['parent.href'].str.split('/', 5, True)[4]"
   ]
  },
  {
   "cell_type": "code",
   "execution_count": 8,
   "metadata": {},
   "outputs": [
    {
     "output_type": "execute_result",
     "data": {
      "text/plain": [
       "     player_id                 name club_id  \\\n",
       "0       202591    benjamin-henrichs   23826   \n",
       "1       238407    alexander-sorloth   23826   \n",
       "2       344695      dayot-upamecano   23826   \n",
       "3        21726    philipp-tschauner   23826   \n",
       "4       402008       amadou-haidara   23826   \n",
       "...        ...                  ...     ...   \n",
       "6725    112062       junior-caicara    6890   \n",
       "6726     51894           mert-gunok    6890   \n",
       "6727    110695     omer-ali-sahiner    6890   \n",
       "6728    110708  fredrik-gulbrandsen    6890   \n",
       "6729    282615      mete-kaan-demir    6890   \n",
       "\n",
       "                                                    url  \n",
       "0     https://www.transfermarkt.co.uk/benjamin-henri...  \n",
       "1     https://www.transfermarkt.co.uk/alexander-sorl...  \n",
       "2     https://www.transfermarkt.co.uk/dayot-upamecan...  \n",
       "3     https://www.transfermarkt.co.uk/philipp-tschau...  \n",
       "4     https://www.transfermarkt.co.uk/amadou-haidara...  \n",
       "...                                                 ...  \n",
       "6725  https://www.transfermarkt.co.uk/junior-caicara...  \n",
       "6726  https://www.transfermarkt.co.uk/mert-gunok/pro...  \n",
       "6727  https://www.transfermarkt.co.uk/omer-ali-sahin...  \n",
       "6728  https://www.transfermarkt.co.uk/fredrik-gulbra...  \n",
       "6729  https://www.transfermarkt.co.uk/mete-kaan-demi...  \n",
       "\n",
       "[6730 rows x 4 columns]"
      ],
      "text/html": "<div>\n<style scoped>\n    .dataframe tbody tr th:only-of-type {\n        vertical-align: middle;\n    }\n\n    .dataframe tbody tr th {\n        vertical-align: top;\n    }\n\n    .dataframe thead th {\n        text-align: right;\n    }\n</style>\n<table border=\"1\" class=\"dataframe\">\n  <thead>\n    <tr style=\"text-align: right;\">\n      <th></th>\n      <th>player_id</th>\n      <th>name</th>\n      <th>club_id</th>\n      <th>url</th>\n    </tr>\n  </thead>\n  <tbody>\n    <tr>\n      <th>0</th>\n      <td>202591</td>\n      <td>benjamin-henrichs</td>\n      <td>23826</td>\n      <td>https://www.transfermarkt.co.uk/benjamin-henri...</td>\n    </tr>\n    <tr>\n      <th>1</th>\n      <td>238407</td>\n      <td>alexander-sorloth</td>\n      <td>23826</td>\n      <td>https://www.transfermarkt.co.uk/alexander-sorl...</td>\n    </tr>\n    <tr>\n      <th>2</th>\n      <td>344695</td>\n      <td>dayot-upamecano</td>\n      <td>23826</td>\n      <td>https://www.transfermarkt.co.uk/dayot-upamecan...</td>\n    </tr>\n    <tr>\n      <th>3</th>\n      <td>21726</td>\n      <td>philipp-tschauner</td>\n      <td>23826</td>\n      <td>https://www.transfermarkt.co.uk/philipp-tschau...</td>\n    </tr>\n    <tr>\n      <th>4</th>\n      <td>402008</td>\n      <td>amadou-haidara</td>\n      <td>23826</td>\n      <td>https://www.transfermarkt.co.uk/amadou-haidara...</td>\n    </tr>\n    <tr>\n      <th>...</th>\n      <td>...</td>\n      <td>...</td>\n      <td>...</td>\n      <td>...</td>\n    </tr>\n    <tr>\n      <th>6725</th>\n      <td>112062</td>\n      <td>junior-caicara</td>\n      <td>6890</td>\n      <td>https://www.transfermarkt.co.uk/junior-caicara...</td>\n    </tr>\n    <tr>\n      <th>6726</th>\n      <td>51894</td>\n      <td>mert-gunok</td>\n      <td>6890</td>\n      <td>https://www.transfermarkt.co.uk/mert-gunok/pro...</td>\n    </tr>\n    <tr>\n      <th>6727</th>\n      <td>110695</td>\n      <td>omer-ali-sahiner</td>\n      <td>6890</td>\n      <td>https://www.transfermarkt.co.uk/omer-ali-sahin...</td>\n    </tr>\n    <tr>\n      <th>6728</th>\n      <td>110708</td>\n      <td>fredrik-gulbrandsen</td>\n      <td>6890</td>\n      <td>https://www.transfermarkt.co.uk/fredrik-gulbra...</td>\n    </tr>\n    <tr>\n      <th>6729</th>\n      <td>282615</td>\n      <td>mete-kaan-demir</td>\n      <td>6890</td>\n      <td>https://www.transfermarkt.co.uk/mete-kaan-demi...</td>\n    </tr>\n  </tbody>\n</table>\n<p>6730 rows × 4 columns</p>\n</div>"
     },
     "metadata": {},
     "execution_count": 8
    }
   ],
   "source": [
    "# quickly get a reference to the underlying asset dataframe\n",
    "players = runner.get_asset_df('players')"
   ]
  }
 ],
 "metadata": {
  "celltoolbar": "Tags",
  "kernelspec": {
   "display_name": "Python (player-scores)",
   "language": "python",
   "name": "player-scores"
  },
  "language_info": {
   "codemirror_mode": {
    "name": "ipython",
    "version": 3
   },
   "file_extension": ".py",
   "mimetype": "text/x-python",
   "name": "python",
   "nbconvert_exporter": "python",
   "pygments_lexer": "ipython3",
   "version": "3.8.5"
  }
 },
 "nbformat": 4,
 "nbformat_minor": 4
}