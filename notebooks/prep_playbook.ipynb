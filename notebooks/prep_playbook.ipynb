{
 "cells": [
  {
   "cell_type": "code",
   "execution_count": 1,
   "metadata": {},
   "outputs": [],
   "source": [
    "# obtain raw assets\n",
    "import os\n",
    "os.system(\"dvc pull\")\n",
    "\n",
    "home = os.path.expanduser(\"~/transfermarkt-datasets\") \n",
    "os.chdir(home)"
   ]
  },
  {
   "cell_type": "code",
   "execution_count": 2,
   "metadata": {},
   "outputs": [],
   "source": [
    "# initialize asset runner\n",
    "\n",
    "import pandas as pd\n",
    "from prep.asset_runner import AssetRunner\n",
    "\n",
    "runner = AssetRunner('data/raw')"
   ]
  },
  {
   "cell_type": "code",
   "execution_count": 3,
   "metadata": {},
   "outputs": [
    {
     "output_type": "stream",
     "name": "stderr",
     "text": [
      "--- Processing 5 assets ---\n",
      "Name          Path      Seasons\n",
      "------------  --------  ------------------------------------------\n",
      "games         data/raw  [2015, 2016, 2017, 2018, 2019, 2020, 2021]\n",
      "clubs         data/raw  [2015, 2016, 2017, 2018, 2019, 2020, 2021]\n",
      "players       data/raw  [2015, 2016, 2017, 2018, 2019, 2020, 2021]\n",
      "appearances   data/raw  [2015, 2016, 2017, 2018, 2019, 2020, 2021]\n",
      "competitions  data/raw  [2015, 2016, 2017, 2018, 2019, 2020, 2021]\n",
      "\n",
      "-> Processing games\n",
      "             season  home_club_goals  away_club_goals\n",
      "count  29998.000000     29998.000000     29998.000000\n",
      "mean    2017.555337         1.587406         1.351623\n",
      "std        1.789090         1.433393         1.391580\n",
      "min     2014.000000         0.000000         0.000000\n",
      "25%     2016.000000         1.000000         0.000000\n",
      "50%     2018.000000         1.000000         1.000000\n",
      "75%     2019.000000         2.000000         2.000000\n",
      "max     2021.000000        15.000000        16.000000\n",
      "All 0 validations passed!\n",
      "\n",
      "-> Processing clubs\n",
      "       total_market_value  squad_size  average_age  foreigners_number  \\\n",
      "count          346.000000  364.000000   364.000000         364.000000   \n",
      "mean           100.331965   25.384615    24.439286          11.401099   \n",
      "std            168.184683    7.303374     5.630786           6.391161   \n",
      "min              1.260000    0.000000     0.000000           0.000000   \n",
      "25%              9.667500   24.000000    24.500000           7.000000   \n",
      "50%             26.515000   27.000000    25.400000          12.000000   \n",
      "75%            107.090000   29.000000    26.625000          16.000000   \n",
      "max            934.470000   40.000000    29.900000          28.000000   \n",
      "\n",
      "       foreigners_percentage  national_team_players  stadium_seats  \n",
      "count             336.000000             364.000000     364.000000  \n",
      "mean               45.609226               5.521978   26219.260989  \n",
      "std                18.823258               5.272420   17916.475030  \n",
      "min                 3.400000               0.000000       0.000000  \n",
      "25%                32.075000               1.000000   12222.250000  \n",
      "50%                46.700000               4.000000   21580.500000  \n",
      "75%                58.800000               9.000000   34753.750000  \n",
      "max               100.000000              21.000000   99354.000000  \n",
      "All 1 validations passed!\n",
      "\n",
      "-> Processing players\n",
      "       height_in_cm\n",
      "count  20644.000000\n",
      "mean     171.403749\n",
      "std       43.609901\n",
      "min        0.000000\n",
      "25%      176.000000\n",
      "50%      182.000000\n",
      "75%      187.000000\n",
      "max      206.000000\n",
      "All 0 validations passed!\n",
      "\n",
      "-> Processing appearances\n",
      "               goals        assists  minutes_played   yellow_cards  \\\n",
      "count  734507.000000  734507.000000   734507.000000  734507.000000   \n",
      "mean        0.097009       0.072474       70.468257       0.150573   \n",
      "std         0.333039       0.279201       29.454653       0.369190   \n",
      "min         0.000000       0.000000        0.000000       0.000000   \n",
      "25%         0.000000       0.000000       57.000000       0.000000   \n",
      "50%         0.000000       0.000000       90.000000       0.000000   \n",
      "75%         0.000000       0.000000       90.000000       0.000000   \n",
      "max         5.000000       6.000000      120.000000       2.000000   \n",
      "\n",
      "           red_cards  \n",
      "count  734507.000000  \n",
      "mean        0.003597  \n",
      "std         0.059867  \n",
      "min         0.000000  \n",
      "25%         0.000000  \n",
      "50%         0.000000  \n",
      "75%         0.000000  \n",
      "max         1.000000  \n",
      "All 0 validations passed!\n",
      "\n",
      "-> Processing competitions\n",
      "       competition_id          name confederation\n",
      "count              42            42            42\n",
      "unique             42            41             1\n",
      "top               CDR  premier-liga        europa\n",
      "freq                1             2            42\n",
      "All 1 validations passed!\n",
      "\n"
     ]
    }
   ],
   "source": [
    "# process assets \n",
    "runner.process_assets()"
   ]
  },
  {
   "cell_type": "code",
   "execution_count": 4,
   "metadata": {},
   "outputs": [
    {
     "output_type": "stream",
     "name": "stdout",
     "text": [
      "Name          Path      Seasons\n------------  --------  ------------------------------------------\ngames         data/raw  [2015, 2016, 2017, 2018, 2019, 2020, 2021]\nclubs         data/raw  [2015, 2016, 2017, 2018, 2019, 2020, 2021]\nplayers       data/raw  [2015, 2016, 2017, 2018, 2019, 2020, 2021]\nappearances   data/raw  [2015, 2016, 2017, 2018, 2019, 2020, 2021]\ncompetitions  data/raw  [2015, 2016, 2017, 2018, 2019, 2020, 2021]\n"
     ]
    }
   ],
   "source": [
    "# list available assets\n",
    "print(runner.prettify_asset_processors())"
   ]
  },
  {
   "cell_type": "code",
   "execution_count": 5,
   "metadata": {},
   "outputs": [
    {
     "output_type": "execute_result",
     "data": {
      "text/plain": [
       "'games'"
      ]
     },
     "metadata": {},
     "execution_count": 5
    }
   ],
   "source": [
    "# get a reference to one asset\n",
    "asset = runner.assets[0]\n",
    "asset['name']"
   ]
  },
  {
   "cell_type": "code",
   "execution_count": 6,
   "metadata": {},
   "outputs": [
    {
     "output_type": "execute_result",
     "data": {
      "text/plain": [
       "             season  home_club_goals  away_club_goals\n",
       "count  29998.000000     29998.000000     29998.000000\n",
       "mean    2017.555337         1.587406         1.351623\n",
       "std        1.789090         1.433393         1.391580\n",
       "min     2014.000000         0.000000         0.000000\n",
       "25%     2016.000000         1.000000         0.000000\n",
       "50%     2018.000000         1.000000         1.000000\n",
       "75%     2019.000000         2.000000         2.000000\n",
       "max     2021.000000        15.000000        16.000000"
      ],
      "text/html": "<div>\n<style scoped>\n    .dataframe tbody tr th:only-of-type {\n        vertical-align: middle;\n    }\n\n    .dataframe tbody tr th {\n        vertical-align: top;\n    }\n\n    .dataframe thead th {\n        text-align: right;\n    }\n</style>\n<table border=\"1\" class=\"dataframe\">\n  <thead>\n    <tr style=\"text-align: right;\">\n      <th></th>\n      <th>season</th>\n      <th>home_club_goals</th>\n      <th>away_club_goals</th>\n    </tr>\n  </thead>\n  <tbody>\n    <tr>\n      <th>count</th>\n      <td>29998.000000</td>\n      <td>29998.000000</td>\n      <td>29998.000000</td>\n    </tr>\n    <tr>\n      <th>mean</th>\n      <td>2017.555337</td>\n      <td>1.587406</td>\n      <td>1.351623</td>\n    </tr>\n    <tr>\n      <th>std</th>\n      <td>1.789090</td>\n      <td>1.433393</td>\n      <td>1.391580</td>\n    </tr>\n    <tr>\n      <th>min</th>\n      <td>2014.000000</td>\n      <td>0.000000</td>\n      <td>0.000000</td>\n    </tr>\n    <tr>\n      <th>25%</th>\n      <td>2016.000000</td>\n      <td>1.000000</td>\n      <td>0.000000</td>\n    </tr>\n    <tr>\n      <th>50%</th>\n      <td>2018.000000</td>\n      <td>1.000000</td>\n      <td>1.000000</td>\n    </tr>\n    <tr>\n      <th>75%</th>\n      <td>2019.000000</td>\n      <td>2.000000</td>\n      <td>2.000000</td>\n    </tr>\n    <tr>\n      <th>max</th>\n      <td>2021.000000</td>\n      <td>15.000000</td>\n      <td>16.000000</td>\n    </tr>\n  </tbody>\n</table>\n</div>"
     },
     "metadata": {},
     "execution_count": 6
    }
   ],
   "source": [
    "# get a reference to the pandas dataframes containing raw and prepared data\n",
    "clubs = asset['processor']\n",
    "\n",
    "raw = clubs.raw_dfs\n",
    "prep = clubs.prep_df\n",
    "\n",
    "prep.describe()"
   ]
  },
  {
   "cell_type": "code",
   "execution_count": 7,
   "metadata": {},
   "outputs": [
    {
     "output_type": "execute_result",
     "data": {
      "text/plain": [
       "0        L1\n",
       "1       NLP\n",
       "2        L1\n",
       "3        L1\n",
       "4      NLSC\n",
       "       ... \n",
       "794     DK1\n",
       "795     DK1\n",
       "796     DK1\n",
       "797     DK1\n",
       "798     DK1\n",
       "Name: 4, Length: 799, dtype: object"
      ]
     },
     "metadata": {},
     "execution_count": 7
    }
   ],
   "source": [
    "normalized = clubs.checkpoints['json_normalized']\n",
    "normalized['parent.href'].str.split('/', 5, True)[4]"
   ]
  },
  {
   "cell_type": "code",
   "execution_count": 8,
   "metadata": {},
   "outputs": [],
   "source": [
    "# quickly get a reference to the underlying asset dataframe\n",
    "players = runner.get_asset_df('players')"
   ]
  }
 ],
 "metadata": {
  "celltoolbar": "Tags",
  "kernelspec": {
   "display_name": "Python (player-scores)",
   "language": "python",
   "name": "player-scores"
  },
  "language_info": {
   "codemirror_mode": {
    "name": "ipython",
    "version": 3
   },
   "file_extension": ".py",
   "mimetype": "text/x-python",
   "name": "python",
   "nbconvert_exporter": "python",
   "pygments_lexer": "ipython3",
   "version": "3.8.5"
  }
 },
 "nbformat": 4,
 "nbformat_minor": 4
}