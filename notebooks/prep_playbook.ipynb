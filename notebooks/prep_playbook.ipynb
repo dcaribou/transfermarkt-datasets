{
 "cells": [
  {
   "cell_type": "code",
   "execution_count": 5,
   "metadata": {},
   "outputs": [],
   "source": [
    "# obtain raw assets\n",
    "import os\n",
    "os.system(\"dvc pull\")\n",
    "\n",
    "home = os.path.expanduser(\"~/transfermarkt-datasets\") \n",
    "os.chdir(home)"
   ]
  },
  {
   "cell_type": "code",
   "execution_count": 8,
   "metadata": {},
   "outputs": [],
   "source": [
    "# initialize asset runner\n",
    "\n",
    "import pandas as pd\n",
    "from prep.asset_runner import AssetRunner\n",
    "\n",
    "runner = AssetRunner('data/raw')"
   ]
  },
  {
   "cell_type": "code",
   "execution_count": 9,
   "metadata": {},
   "outputs": [
    {
     "output_type": "stream",
     "name": "stderr",
     "text": [
      "--- Processing 5 assets ---\n",
      "Name         Path      Seasons\n",
      "-----------  --------  ------------------------------------\n",
      "games        data/raw  [2016, 2017, 2018, 2019, 2020, 2021]\n",
      "clubs        data/raw  [2016, 2017, 2018, 2019, 2020, 2021]\n",
      "players      data/raw  [2016, 2017, 2018, 2019, 2020, 2021]\n",
      "appearances  data/raw  [2016, 2017, 2018, 2019, 2020, 2021]\n",
      "leagues      data/raw  [2016, 2017, 2018, 2019, 2020, 2021]\n",
      "\n",
      "-> Processing games\n",
      "             season  home_club_goals  away_club_goals\n",
      "count  19838.000000     19838.000000     19838.000000\n",
      "mean    2017.979887         1.517139         1.198558\n",
      "std        1.434616         1.304087         1.166721\n",
      "min     2015.000000         0.000000         0.000000\n",
      "25%     2017.000000         1.000000         0.000000\n",
      "50%     2018.000000         1.000000         1.000000\n",
      "75%     2019.000000         2.000000         2.000000\n",
      "max     2020.000000        10.000000        13.000000\n",
      "All 0 validations passed!\n",
      "\n",
      "-> Processing clubs\n",
      "       total_market_value  squad_size  average_age  foreigners_number  \\\n",
      "count          342.000000  351.000000   351.000000         342.000000   \n",
      "mean            99.142719   26.837607    24.835897          11.956140   \n",
      "std            168.803857    7.233996     4.285766           6.406637   \n",
      "min              1.260000    0.000000     0.000000           0.000000   \n",
      "25%              9.050000   24.000000    24.500000           8.000000   \n",
      "50%             24.030000   27.000000    25.400000          12.000000   \n",
      "75%            100.805000   31.000000    26.400000          16.000000   \n",
      "max            905.540000   53.000000    29.400000          37.000000   \n",
      "\n",
      "       foreigners_percentage  national_team_players  \n",
      "count             333.000000             351.000000  \n",
      "mean               43.493093               5.276353  \n",
      "std                18.282884               5.310419  \n",
      "min                 3.300000               0.000000  \n",
      "25%                31.000000               1.000000  \n",
      "50%                42.900000               3.000000  \n",
      "75%                56.300000               8.000000  \n",
      "max               100.000000              23.000000  \n",
      "All 1 validations passed!\n",
      "\n",
      "-> Processing players\n",
      "       height_in_cm\n",
      "count  18686.000000\n",
      "mean     171.186503\n",
      "std       44.035479\n",
      "min        0.000000\n",
      "25%      176.000000\n",
      "50%      182.000000\n",
      "75%      187.000000\n",
      "max      206.000000\n",
      "All 0 validations passed!\n",
      "\n",
      "-> Processing appearances\n",
      "               goals        assists  minutes_played   yellow_cards  \\\n",
      "count  554520.000000  554520.000000   554520.000000  554520.000000   \n",
      "mean        0.093896       0.071337       70.151396       0.150292   \n",
      "std         0.326647       0.276330       29.470527       0.368635   \n",
      "min         0.000000       0.000000        0.000000       0.000000   \n",
      "25%         0.000000       0.000000       57.000000       0.000000   \n",
      "50%         0.000000       0.000000       90.000000       0.000000   \n",
      "75%         0.000000       0.000000       90.000000       0.000000   \n",
      "max         5.000000       4.000000       90.000000       2.000000   \n",
      "\n",
      "           red_cards  \n",
      "count  554520.000000  \n",
      "mean        0.003607  \n",
      "std         0.059948  \n",
      "min         0.000000  \n",
      "25%         0.000000  \n",
      "50%         0.000000  \n",
      "75%         0.000000  \n",
      "max         1.000000  \n",
      "All 0 validations passed!\n",
      "\n",
      "-> Processing leagues\n",
      "       league_id          name confederation\n",
      "count         14            14            14\n",
      "unique        14            13             1\n",
      "top          GR1  premier-liga        europa\n",
      "freq           1             2            14\n",
      "All 1 validations passed!\n",
      "\n"
     ]
    }
   ],
   "source": [
    "# process assets \n",
    "runner.process_assets()"
   ]
  },
  {
   "cell_type": "code",
   "execution_count": 10,
   "metadata": {},
   "outputs": [
    {
     "output_type": "stream",
     "name": "stdout",
     "text": [
      "Name         Path      Seasons\n-----------  --------  ------------------------------------\ngames        data/raw  [2016, 2017, 2018, 2019, 2020, 2021]\nclubs        data/raw  [2016, 2017, 2018, 2019, 2020, 2021]\nplayers      data/raw  [2016, 2017, 2018, 2019, 2020, 2021]\nappearances  data/raw  [2016, 2017, 2018, 2019, 2020, 2021]\nleagues      data/raw  [2016, 2017, 2018, 2019, 2020, 2021]\n"
     ]
    }
   ],
   "source": [
    "# list available assets\n",
    "print(runner.prettify_asset_processors())"
   ]
  },
  {
   "cell_type": "code",
   "execution_count": 11,
   "metadata": {},
   "outputs": [
    {
     "output_type": "execute_result",
     "data": {
      "text/plain": [
       "'games'"
      ]
     },
     "metadata": {},
     "execution_count": 11
    }
   ],
   "source": [
    "# get a reference to one asset\n",
    "asset = runner.assets[0]\n",
    "asset['name']"
   ]
  },
  {
   "cell_type": "code",
   "execution_count": 12,
   "metadata": {},
   "outputs": [
    {
     "output_type": "error",
     "ename": "AttributeError",
     "evalue": "'GamesProcessor' object has no attribute 'raw_df'",
     "traceback": [
      "\u001b[0;31m---------------------------------------------------------------------------\u001b[0m",
      "\u001b[0;31mAttributeError\u001b[0m                            Traceback (most recent call last)",
      "\u001b[0;32m<ipython-input-12-91b90c7e11c9>\u001b[0m in \u001b[0;36m<module>\u001b[0;34m\u001b[0m\n\u001b[1;32m      2\u001b[0m \u001b[0mclubs\u001b[0m \u001b[0;34m=\u001b[0m \u001b[0masset\u001b[0m\u001b[0;34m[\u001b[0m\u001b[0;34m'processor'\u001b[0m\u001b[0;34m]\u001b[0m\u001b[0;34m\u001b[0m\u001b[0;34m\u001b[0m\u001b[0m\n\u001b[1;32m      3\u001b[0m \u001b[0;34m\u001b[0m\u001b[0m\n\u001b[0;32m----> 4\u001b[0;31m \u001b[0mraw\u001b[0m \u001b[0;34m=\u001b[0m \u001b[0mclubs\u001b[0m\u001b[0;34m.\u001b[0m\u001b[0mraw_df\u001b[0m\u001b[0;34m\u001b[0m\u001b[0;34m\u001b[0m\u001b[0m\n\u001b[0m\u001b[1;32m      5\u001b[0m \u001b[0mprep\u001b[0m \u001b[0;34m=\u001b[0m \u001b[0mclubs\u001b[0m\u001b[0;34m.\u001b[0m\u001b[0mprep_df\u001b[0m\u001b[0;34m\u001b[0m\u001b[0;34m\u001b[0m\u001b[0m\n\u001b[1;32m      6\u001b[0m \u001b[0;34m\u001b[0m\u001b[0m\n",
      "\u001b[0;31mAttributeError\u001b[0m: 'GamesProcessor' object has no attribute 'raw_df'"
     ]
    }
   ],
   "source": [
    "# get a reference to the pandas dataframes containing raw and prepared data\n",
    "clubs = asset['processor']\n",
    "\n",
    "raw = clubs.raw_df\n",
    "prep = clubs.prep_df\n",
    "\n",
    "prep.describe()"
   ]
  },
  {
   "cell_type": "code",
   "execution_count": 7,
   "metadata": {},
   "outputs": [
    {
     "output_type": "execute_result",
     "data": {
      "text/plain": [
       "0       L1\n",
       "1       L1\n",
       "2       L1\n",
       "3       L1\n",
       "4       L1\n",
       "      ... \n",
       "236    TR1\n",
       "237    TR1\n",
       "238    TR1\n",
       "239    TR1\n",
       "240    TR1\n",
       "Name: 4, Length: 241, dtype: object"
      ]
     },
     "metadata": {},
     "execution_count": 7
    }
   ],
   "source": [
    "normalized = clubs.checkpoints['json_normalized']\n",
    "normalized['parent.href'].str.split('/', 5, True)[4]"
   ]
  },
  {
   "cell_type": "code",
   "execution_count": 8,
   "metadata": {},
   "outputs": [
    {
     "output_type": "execute_result",
     "data": {
      "text/plain": [
       "     player_id                 name club_id  \\\n",
       "0       202591    benjamin-henrichs   23826   \n",
       "1       238407    alexander-sorloth   23826   \n",
       "2       344695      dayot-upamecano   23826   \n",
       "3        21726    philipp-tschauner   23826   \n",
       "4       402008       amadou-haidara   23826   \n",
       "...        ...                  ...     ...   \n",
       "6725    112062       junior-caicara    6890   \n",
       "6726     51894           mert-gunok    6890   \n",
       "6727    110695     omer-ali-sahiner    6890   \n",
       "6728    110708  fredrik-gulbrandsen    6890   \n",
       "6729    282615      mete-kaan-demir    6890   \n",
       "\n",
       "                                                    url  \n",
       "0     https://www.transfermarkt.co.uk/benjamin-henri...  \n",
       "1     https://www.transfermarkt.co.uk/alexander-sorl...  \n",
       "2     https://www.transfermarkt.co.uk/dayot-upamecan...  \n",
       "3     https://www.transfermarkt.co.uk/philipp-tschau...  \n",
       "4     https://www.transfermarkt.co.uk/amadou-haidara...  \n",
       "...                                                 ...  \n",
       "6725  https://www.transfermarkt.co.uk/junior-caicara...  \n",
       "6726  https://www.transfermarkt.co.uk/mert-gunok/pro...  \n",
       "6727  https://www.transfermarkt.co.uk/omer-ali-sahin...  \n",
       "6728  https://www.transfermarkt.co.uk/fredrik-gulbra...  \n",
       "6729  https://www.transfermarkt.co.uk/mete-kaan-demi...  \n",
       "\n",
       "[6730 rows x 4 columns]"
      ],
      "text/html": "<div>\n<style scoped>\n    .dataframe tbody tr th:only-of-type {\n        vertical-align: middle;\n    }\n\n    .dataframe tbody tr th {\n        vertical-align: top;\n    }\n\n    .dataframe thead th {\n        text-align: right;\n    }\n</style>\n<table border=\"1\" class=\"dataframe\">\n  <thead>\n    <tr style=\"text-align: right;\">\n      <th></th>\n      <th>player_id</th>\n      <th>name</th>\n      <th>club_id</th>\n      <th>url</th>\n    </tr>\n  </thead>\n  <tbody>\n    <tr>\n      <th>0</th>\n      <td>202591</td>\n      <td>benjamin-henrichs</td>\n      <td>23826</td>\n      <td>https://www.transfermarkt.co.uk/benjamin-henri...</td>\n    </tr>\n    <tr>\n      <th>1</th>\n      <td>238407</td>\n      <td>alexander-sorloth</td>\n      <td>23826</td>\n      <td>https://www.transfermarkt.co.uk/alexander-sorl...</td>\n    </tr>\n    <tr>\n      <th>2</th>\n      <td>344695</td>\n      <td>dayot-upamecano</td>\n      <td>23826</td>\n      <td>https://www.transfermarkt.co.uk/dayot-upamecan...</td>\n    </tr>\n    <tr>\n      <th>3</th>\n      <td>21726</td>\n      <td>philipp-tschauner</td>\n      <td>23826</td>\n      <td>https://www.transfermarkt.co.uk/philipp-tschau...</td>\n    </tr>\n    <tr>\n      <th>4</th>\n      <td>402008</td>\n      <td>amadou-haidara</td>\n      <td>23826</td>\n      <td>https://www.transfermarkt.co.uk/amadou-haidara...</td>\n    </tr>\n    <tr>\n      <th>...</th>\n      <td>...</td>\n      <td>...</td>\n      <td>...</td>\n      <td>...</td>\n    </tr>\n    <tr>\n      <th>6725</th>\n      <td>112062</td>\n      <td>junior-caicara</td>\n      <td>6890</td>\n      <td>https://www.transfermarkt.co.uk/junior-caicara...</td>\n    </tr>\n    <tr>\n      <th>6726</th>\n      <td>51894</td>\n      <td>mert-gunok</td>\n      <td>6890</td>\n      <td>https://www.transfermarkt.co.uk/mert-gunok/pro...</td>\n    </tr>\n    <tr>\n      <th>6727</th>\n      <td>110695</td>\n      <td>omer-ali-sahiner</td>\n      <td>6890</td>\n      <td>https://www.transfermarkt.co.uk/omer-ali-sahin...</td>\n    </tr>\n    <tr>\n      <th>6728</th>\n      <td>110708</td>\n      <td>fredrik-gulbrandsen</td>\n      <td>6890</td>\n      <td>https://www.transfermarkt.co.uk/fredrik-gulbra...</td>\n    </tr>\n    <tr>\n      <th>6729</th>\n      <td>282615</td>\n      <td>mete-kaan-demir</td>\n      <td>6890</td>\n      <td>https://www.transfermarkt.co.uk/mete-kaan-demi...</td>\n    </tr>\n  </tbody>\n</table>\n<p>6730 rows × 4 columns</p>\n</div>"
     },
     "metadata": {},
     "execution_count": 8
    }
   ],
   "source": [
    "# quickly get a reference to the underlying asset dataframe\n",
    "players = runner.get_asset_df('players')"
   ]
  }
 ],
 "metadata": {
  "celltoolbar": "Tags",
  "kernelspec": {
   "display_name": "Python (player-scores)",
   "language": "python",
   "name": "player-scores"
  },
  "language_info": {
   "codemirror_mode": {
    "name": "ipython",
    "version": 3
   },
   "file_extension": ".py",
   "mimetype": "text/x-python",
   "name": "python",
   "nbconvert_exporter": "python",
   "pygments_lexer": "ipython3",
   "version": "3.8.5"
  }
 },
 "nbformat": 4,
 "nbformat_minor": 4
}