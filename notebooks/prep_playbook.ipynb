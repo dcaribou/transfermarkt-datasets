{
 "cells": [
  {
   "cell_type": "code",
   "execution_count": 1,
   "metadata": {},
   "outputs": [],
   "source": [
    "import os\n",
    "import sys\n",
    "\n",
    "# retrieve local copies of raw and prepared data from dvc\n",
    "# checkout the readme for instructions about how to gain access\n",
    "\n",
    "# os.system(\"dvc pull\")\n",
    "\n",
    "home = os.path.expanduser(\"~/transfermarkt-datasets\") \n",
    "os.chdir(home)\n",
    "\n",
    "if not sys.warnoptions:\n",
    "    import warnings\n",
    "    warnings.simplefilter(\"ignore\")"
   ]
  },
  {
   "cell_type": "code",
   "execution_count": 2,
   "metadata": {},
   "outputs": [],
   "source": [
    "# initialize the asset runner\n",
    "\n",
    "import pandas as pd\n",
    "from transfermarkt_datasets.core.dataset import Dataset\n",
    "\n",
    "td = Dataset()"
   ]
  },
  {
   "cell_type": "code",
   "execution_count": null,
   "metadata": {},
   "outputs": [],
   "source": [
    "# kickoff processing. this will load and post-process the data\n",
    "# after the processing, raw and prepared datasets are available as pandas dataframes\n",
    "\n",
    "td.discover_assets()\n",
    "td.build_assets()"
   ]
  },
  {
   "cell_type": "code",
   "execution_count": null,
   "metadata": {},
   "outputs": [
    {
     "name": "stdout",
     "output_type": "stream",
     "text": [
      "Asset(name=base_players)\n"
     ]
    }
   ],
   "source": [
    "# get a reference to one asset\n",
    "\n",
    "base_players = td.assets[\"base_players\"]\n",
    "print(base_players)"
   ]
  },
  {
   "cell_type": "code",
   "execution_count": null,
   "metadata": {},
   "outputs": [
    {
     "data": {
      "text/html": [
       "<div>\n",
       "<style scoped>\n",
       "    .dataframe tbody tr th:only-of-type {\n",
       "        vertical-align: middle;\n",
       "    }\n",
       "\n",
       "    .dataframe tbody tr th {\n",
       "        vertical-align: top;\n",
       "    }\n",
       "\n",
       "    .dataframe thead th {\n",
       "        text-align: right;\n",
       "    }\n",
       "</style>\n",
       "<table border=\"1\" class=\"dataframe\">\n",
       "  <thead>\n",
       "    <tr style=\"text-align: right;\">\n",
       "      <th></th>\n",
       "      <th>club_id</th>\n",
       "      <th>total_market_value</th>\n",
       "      <th>squad_size</th>\n",
       "      <th>average_age</th>\n",
       "      <th>foreigners_number</th>\n",
       "      <th>foreigners_percentage</th>\n",
       "      <th>national_team_players</th>\n",
       "      <th>stadium_seats</th>\n",
       "    </tr>\n",
       "  </thead>\n",
       "  <tbody>\n",
       "    <tr>\n",
       "      <th>count</th>\n",
       "      <td>401.000000</td>\n",
       "      <td>366.000000</td>\n",
       "      <td>401.000000</td>\n",
       "      <td>372.000000</td>\n",
       "      <td>401.000000</td>\n",
       "      <td>358.000000</td>\n",
       "      <td>401.000000</td>\n",
       "      <td>401.000000</td>\n",
       "    </tr>\n",
       "    <tr>\n",
       "      <th>mean</th>\n",
       "      <td>4532.593516</td>\n",
       "      <td>90.079536</td>\n",
       "      <td>24.862843</td>\n",
       "      <td>25.594624</td>\n",
       "      <td>10.935162</td>\n",
       "      <td>44.653631</td>\n",
       "      <td>4.960100</td>\n",
       "      <td>25389.269327</td>\n",
       "    </tr>\n",
       "    <tr>\n",
       "      <th>std</th>\n",
       "      <td>9734.152763</td>\n",
       "      <td>149.873819</td>\n",
       "      <td>8.111328</td>\n",
       "      <td>1.599603</td>\n",
       "      <td>6.609522</td>\n",
       "      <td>19.279460</td>\n",
       "      <td>5.135504</td>\n",
       "      <td>17745.910056</td>\n",
       "    </tr>\n",
       "    <tr>\n",
       "      <th>min</th>\n",
       "      <td>3.000000</td>\n",
       "      <td>1.100000</td>\n",
       "      <td>0.000000</td>\n",
       "      <td>20.000000</td>\n",
       "      <td>0.000000</td>\n",
       "      <td>3.800000</td>\n",
       "      <td>0.000000</td>\n",
       "      <td>0.000000</td>\n",
       "    </tr>\n",
       "    <tr>\n",
       "      <th>25%</th>\n",
       "      <td>410.000000</td>\n",
       "      <td>8.982500</td>\n",
       "      <td>24.000000</td>\n",
       "      <td>24.600000</td>\n",
       "      <td>6.000000</td>\n",
       "      <td>29.200000</td>\n",
       "      <td>1.000000</td>\n",
       "      <td>12060.000000</td>\n",
       "    </tr>\n",
       "    <tr>\n",
       "      <th>50%</th>\n",
       "      <td>1096.000000</td>\n",
       "      <td>25.740000</td>\n",
       "      <td>27.000000</td>\n",
       "      <td>25.650000</td>\n",
       "      <td>11.000000</td>\n",
       "      <td>44.800000</td>\n",
       "      <td>3.000000</td>\n",
       "      <td>20560.000000</td>\n",
       "    </tr>\n",
       "    <tr>\n",
       "      <th>75%</th>\n",
       "      <td>3349.000000</td>\n",
       "      <td>93.817500</td>\n",
       "      <td>29.000000</td>\n",
       "      <td>26.600000</td>\n",
       "      <td>16.000000</td>\n",
       "      <td>58.100000</td>\n",
       "      <td>8.000000</td>\n",
       "      <td>33150.000000</td>\n",
       "    </tr>\n",
       "    <tr>\n",
       "      <th>max</th>\n",
       "      <td>61825.000000</td>\n",
       "      <td>906.930000</td>\n",
       "      <td>40.000000</td>\n",
       "      <td>30.200000</td>\n",
       "      <td>29.000000</td>\n",
       "      <td>100.000000</td>\n",
       "      <td>22.000000</td>\n",
       "      <td>99354.000000</td>\n",
       "    </tr>\n",
       "  </tbody>\n",
       "</table>\n",
       "</div>"
      ],
      "text/plain": [
       "            club_id  total_market_value  squad_size  average_age  \\\n",
       "count    401.000000          366.000000  401.000000   372.000000   \n",
       "mean    4532.593516           90.079536   24.862843    25.594624   \n",
       "std     9734.152763          149.873819    8.111328     1.599603   \n",
       "min        3.000000            1.100000    0.000000    20.000000   \n",
       "25%      410.000000            8.982500   24.000000    24.600000   \n",
       "50%     1096.000000           25.740000   27.000000    25.650000   \n",
       "75%     3349.000000           93.817500   29.000000    26.600000   \n",
       "max    61825.000000          906.930000   40.000000    30.200000   \n",
       "\n",
       "       foreigners_number  foreigners_percentage  national_team_players  \\\n",
       "count         401.000000             358.000000             401.000000   \n",
       "mean           10.935162              44.653631               4.960100   \n",
       "std             6.609522              19.279460               5.135504   \n",
       "min             0.000000               3.800000               0.000000   \n",
       "25%             6.000000              29.200000               1.000000   \n",
       "50%            11.000000              44.800000               3.000000   \n",
       "75%            16.000000              58.100000               8.000000   \n",
       "max            29.000000             100.000000              22.000000   \n",
       "\n",
       "       stadium_seats  \n",
       "count     401.000000  \n",
       "mean    25389.269327  \n",
       "std     17745.910056  \n",
       "min         0.000000  \n",
       "25%     12060.000000  \n",
       "50%     20560.000000  \n",
       "75%     33150.000000  \n",
       "max     99354.000000  "
      ]
     },
     "execution_count": 5,
     "metadata": {},
     "output_type": "execute_result"
    }
   ],
   "source": [
    "# get a reference to the pandas dataframes containing prepared data\n",
    "\n",
    "base_clubs = td.assets[\"base_clubs\"]\n",
    "\n",
    "prep = base_clubs.prep_df\n",
    "prep.describe()"
   ]
  },
  {
   "cell_type": "code",
   "execution_count": null,
   "metadata": {},
   "outputs": [],
   "source": [
    "base_clubs.load_raw()\n",
    "base_clubs.raw_df"
   ]
  }
 ],
 "metadata": {
  "celltoolbar": "Tags",
  "kernelspec": {
   "display_name": "Python 3.8.13 ('.venv': poetry)",
   "language": "python",
   "name": "python3"
  },
  "language_info": {
   "codemirror_mode": {
    "name": "ipython",
    "version": 3
   },
   "file_extension": ".py",
   "mimetype": "text/x-python",
   "name": "python",
   "nbconvert_exporter": "python",
   "pygments_lexer": "ipython3",
   "version": "3.8.13"
  },
  "vscode": {
   "interpreter": {
    "hash": "98159263fba214b4bc335f06b8c566aa77944c3e7f6b51c31666b38450521430"
   }
  }
 },
 "nbformat": 4,
 "nbformat_minor": 4
}
