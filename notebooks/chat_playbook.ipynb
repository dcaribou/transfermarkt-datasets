{
 "cells": [
  {
   "attachments": {},
   "cell_type": "markdown",
   "metadata": {},
   "source": [
    "# Using OpenAI to interact with the datasets\n",
    "The code below follows [the approach described in the langchaing How-to Guides](https://python.langchain.com/en/latest/modules/chains/examples/sqlite.html#using-local-language-models) in order to enable interaction with the dataset via text.\n",
    "\n",
    "Results look promising, however using OpenAI's APIs is quite expensive. In order to productionalise something like this in the streamlit app, we need to find a cheaper model to generate the SQL."
   ]
  },
  {
   "cell_type": "code",
   "execution_count": 2,
   "metadata": {},
   "outputs": [],
   "source": [
    "import os\n",
    "\n",
    "home = os.path.expanduser(\"~/transfermarkt-datasets\") \n",
    "os.chdir(home)"
   ]
  },
  {
   "cell_type": "code",
   "execution_count": 4,
   "metadata": {},
   "outputs": [],
   "source": [
    "from langchain.chat_models import ChatOpenAI\n",
    "from langchain.chains import SQLDatabaseChain\n",
    "from langchain.sql_database import SQLDatabase"
   ]
  },
  {
   "cell_type": "code",
   "execution_count": 7,
   "metadata": {},
   "outputs": [
    {
     "name": "stderr",
     "output_type": "stream",
     "text": [
      "/Users/dcereijo/transfermarkt-datasets/.venv/lib/python3.8/site-packages/duckdb_engine/__init__.py:160: DuckDBEngineWarning: duckdb-engine doesn't yet support reflection on indices\n",
      "  warnings.warn(\n"
     ]
    }
   ],
   "source": [
    "llm = ChatOpenAI(max_retries=1, temperature=0, verbose=True, model=\"gpt-3.5-turbo\")\n",
    "db = SQLDatabase.from_uri(\n",
    "    \"duckdb:///dbt/duck.db\",\n",
    "    include_tables=[\n",
    "        \"players\",\n",
    "        \"games\",\n",
    "        \"clubs\",\n",
    "        \"appearances\",\n",
    "        \"player_valuations\",\n",
    "        \"game_events\",\n",
    "        \"club_games\"\n",
    "    ]\n",
    ")\n",
    "db_chain = SQLDatabaseChain.from_llm(llm, db, verbose=True, use_query_checker=True)"
   ]
  },
  {
   "cell_type": "code",
   "execution_count": 6,
   "metadata": {},
   "outputs": [
    {
     "name": "stdout",
     "output_type": "stream",
     "text": [
      "\n",
      "\n",
      "\u001b[1m> Entering new SQLDatabaseChain chain...\u001b[0m\n",
      "Who are the top 10 players by market value? Exclude players with missing values\n",
      "SQLQuery:\u001b[32;1m\u001b[1;3mSELECT \"player_id\", \"name\", \"market_value_in_eur\"\n",
      "FROM \"players\"\n",
      "WHERE \"market_value_in_eur\" IS NOT NULL\n",
      "ORDER BY \"market_value_in_eur\" DESC\n",
      "LIMIT 10\u001b[0m\n",
      "SQLResult: \u001b[33;1m\u001b[1;3m[(342229, 'Kylian Mbappé', 180000000), (418560, 'Erling Haaland', 170000000), (371998, 'Vinicius Junior', 120000000), (581678, 'Jude Bellingham', 120000000), (433177, 'Bukayo Saka', 110000000), (406635, 'Phil Foden', 110000000), (580195, 'Jamal Musiala', 110000000), (401923, 'Victor Osimhen', 100000000), (369081, 'Federico Valverde', 100000000), (683840, 'Pedri', 100000000)]\u001b[0m\n",
      "Answer:\u001b[32;1m\u001b[1;3mThe top 10 players by market value are Kylian Mbappé, Erling Haaland, Vinicius Junior, Jude Bellingham, Bukayo Saka, Phil Foden, Jamal Musiala, Victor Osimhen, Federico Valverde, and Pedri.\u001b[0m\n",
      "\u001b[1m> Finished chain.\u001b[0m\n"
     ]
    },
    {
     "data": {
      "text/plain": [
       "'The top 10 players by market value are Kylian Mbappé, Erling Haaland, Vinicius Junior, Jude Bellingham, Bukayo Saka, Phil Foden, Jamal Musiala, Victor Osimhen, Federico Valverde, and Pedri.'"
      ]
     },
     "execution_count": 6,
     "metadata": {},
     "output_type": "execute_result"
    }
   ],
   "source": [
    "db_chain.run(\"Who are the top 10 players by market value? Exclude players with missing values\")"
   ]
  },
  {
   "cell_type": "code",
   "execution_count": 7,
   "metadata": {},
   "outputs": [
    {
     "name": "stdout",
     "output_type": "stream",
     "text": [
      "\n",
      "\n",
      "\u001b[1m> Entering new SQLDatabaseChain chain...\u001b[0m\n",
      "Give me the list of players from FC Barcelona, together with the total number of games they played this season and the average minutes per game. Sort by total number of games played.\n",
      "SQLQuery:\u001b[32;1m\u001b[1;3mSELECT players.name, COUNT(appearances.game_id) AS total_games, AVG(appearances.minutes_played) AS avg_minutes_per_game\n",
      "FROM players\n",
      "JOIN appearances ON players.player_id = appearances.player_id\n",
      "JOIN clubs ON appearances.player_current_club_id = clubs.club_id\n",
      "WHERE clubs.name = 'FC Barcelona' AND appearances.date >= '2021-08-01'\n",
      "GROUP BY players.name\n",
      "ORDER BY total_games DESC\n",
      "LIMIT 5\u001b[0m\n",
      "SQLResult: \u001b[33;1m\u001b[1;3m[('Marc-André ter Stegen', 90, 91.0), ('Gavi', 88, 68.67045454545455), ('Sergio Busquets', 87, 82.64367816091954), ('Robert Lewandowski', 83, 86.144578313253), ('Frenkie de Jong', 81, 74.77777777777777)]\u001b[0m\n",
      "Answer:\u001b[32;1m\u001b[1;3mThe list of players from FC Barcelona, together with the total number of games they played this season and the average minutes per game, sorted by total number of games played, is:\n",
      "- Marc-André ter Stegen played 90 games with an average of 91 minutes per game.\n",
      "- Gavi played 88 games with an average of 68.67 minutes per game.\n",
      "- Sergio Busquets played 87 games with an average of 82.64 minutes per game.\n",
      "- Robert Lewandowski played 83 games with an average of 86.14 minutes per game.\n",
      "- Frenkie de Jong played 81 games with an average of 74.78 minutes per game.\u001b[0m\n",
      "\u001b[1m> Finished chain.\u001b[0m\n"
     ]
    },
    {
     "data": {
      "text/plain": [
       "'The list of players from FC Barcelona, together with the total number of games they played this season and the average minutes per game, sorted by total number of games played, is:\\n- Marc-André ter Stegen played 90 games with an average of 91 minutes per game.\\n- Gavi played 88 games with an average of 68.67 minutes per game.\\n- Sergio Busquets played 87 games with an average of 82.64 minutes per game.\\n- Robert Lewandowski played 83 games with an average of 86.14 minutes per game.\\n- Frenkie de Jong played 81 games with an average of 74.78 minutes per game.'"
      ]
     },
     "execution_count": 7,
     "metadata": {},
     "output_type": "execute_result"
    }
   ],
   "source": [
    "db_chain.run(\"Give me the list of players from FC Barcelona, together with the total number of games they played this season and the average minutes per game. Sort by total number of games played.\")"
   ]
  }
 ],
 "metadata": {
  "kernelspec": {
   "display_name": ".venv",
   "language": "python",
   "name": "python3"
  },
  "language_info": {
   "codemirror_mode": {
    "name": "ipython",
    "version": 3
   },
   "file_extension": ".py",
   "mimetype": "text/x-python",
   "name": "python",
   "nbconvert_exporter": "python",
   "pygments_lexer": "ipython3",
   "version": "3.8.13"
  },
  "orig_nbformat": 4
 },
 "nbformat": 4,
 "nbformat_minor": 2
}
