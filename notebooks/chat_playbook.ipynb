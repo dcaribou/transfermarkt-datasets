{
 "cells": [
  {
   "attachments": {},
   "cell_type": "markdown",
   "metadata": {},
   "source": [
    "# Using OpenAI to interact with the datasets\n",
    "The code below follows [the approach described in the langchaing How-to Guides](https://python.langchain.com/en/latest/modules/chains/examples/sqlite.html#using-local-language-models) in order to enable interaction with the dataset via text.\n",
    "\n",
    "Results look promising, however using OpenAI's APIs is quite expensive. In order to productionalise something like this in the streamlit app, we need to find a cheaper model to generate the SQL."
   ]
  },
  {
   "cell_type": "code",
   "execution_count": 2,
   "metadata": {},
   "outputs": [],
   "source": [
    "import os\n",
    "\n",
    "home = os.path.expanduser(\"~/transfermarkt-datasets\") \n",
    "os.chdir(home)"
   ]
  },
  {
   "cell_type": "code",
   "execution_count": 4,
   "metadata": {},
   "outputs": [],
   "source": [
    "from langchain.agents import create_sql_agent\n",
    "from langchain.agents.agent_toolkits import SQLDatabaseToolkit\n",
    "from langchain.sql_database import SQLDatabase\n",
    "from langchain.agents.agent_types import AgentType\n",
    "from langchain.chat_models import ChatOpenAI"
   ]
  },
  {
   "cell_type": "code",
   "execution_count": 7,
   "metadata": {},
   "outputs": [
    {
     "name": "stderr",
     "output_type": "stream",
     "text": [
      "/Users/dcereijo/transfermarkt-datasets/.venv/lib/python3.8/site-packages/duckdb_engine/__init__.py:160: DuckDBEngineWarning: duckdb-engine doesn't yet support reflection on indices\n",
      "  warnings.warn(\n"
     ]
    }
   ],
   "source": [
    "llm = ChatOpenAI(max_retries=1, temperature=0, verbose=True, model=\"gpt-3.5-turbo\")\n",
    "db = SQLDatabase.from_uri(\n",
    "    \"duckdb:///dbt/duck.db\",\n",
    "    include_tables=[\n",
    "        \"players\",\n",
    "        \"games\",\n",
    "        \"clubs\",\n",
    "        \"appearances\",\n",
    "        \"player_valuations\",\n",
    "        \"game_events\",\n",
    "        \"club_games\"\n",
    "    ]\n",
    ")\n",
    "toolkit = SQLDatabaseToolkit(db=db, llm=llm)\n",
    "agent_executor = create_sql_agent(\n",
    "    llm=llm,\n",
    "    toolkit=toolkit,\n",
    "    verbose=True,\n",
    "    agent_type=AgentType.ZERO_SHOT_REACT_DESCRIPTION,\n",
    ")"
   ]
  },
  {
   "cell_type": "code",
   "execution_count": 6,
   "metadata": {},
   "outputs": [
    {
     "name": "stdout",
     "output_type": "stream",
     "text": [
      "\n",
      "\n",
      "\u001b[1m> Entering new SQLDatabaseChain chain...\u001b[0m\n",
      "Who are the top 10 players by market value? Exclude players with missing values\n",
      "SQLQuery:\u001b[32;1m\u001b[1;3mSELECT \"player_id\", \"name\", \"market_value_in_eur\"\n",
      "FROM \"players\"\n",
      "WHERE \"market_value_in_eur\" IS NOT NULL\n",
      "ORDER BY \"market_value_in_eur\" DESC\n",
      "LIMIT 10\u001b[0m\n",
      "SQLResult: \u001b[33;1m\u001b[1;3m[(342229, 'Kylian Mbappé', 180000000), (418560, 'Erling Haaland', 170000000), (371998, 'Vinicius Junior', 120000000), (581678, 'Jude Bellingham', 120000000), (433177, 'Bukayo Saka', 110000000), (406635, 'Phil Foden', 110000000), (580195, 'Jamal Musiala', 110000000), (401923, 'Victor Osimhen', 100000000), (369081, 'Federico Valverde', 100000000), (683840, 'Pedri', 100000000)]\u001b[0m\n",
      "Answer:\u001b[32;1m\u001b[1;3mThe top 10 players by market value are Kylian Mbappé, Erling Haaland, Vinicius Junior, Jude Bellingham, Bukayo Saka, Phil Foden, Jamal Musiala, Victor Osimhen, Federico Valverde, and Pedri.\u001b[0m\n",
      "\u001b[1m> Finished chain.\u001b[0m\n"
     ]
    },
    {
     "data": {
      "text/plain": [
       "'The top 10 players by market value are Kylian Mbappé, Erling Haaland, Vinicius Junior, Jude Bellingham, Bukayo Saka, Phil Foden, Jamal Musiala, Victor Osimhen, Federico Valverde, and Pedri.'"
      ]
     },
     "execution_count": 6,
     "metadata": {},
     "output_type": "execute_result"
    }
   ],
   "source": [
    "agent_executor.run(\"Who are the top 10 players by market value? Exclude players with missing values\")"
   ]
  },
  {
   "cell_type": "code",
   "execution_count": 7,
   "metadata": {},
   "outputs": [
    {
     "name": "stdout",
     "output_type": "stream",
     "text": [
      "\n",
      "\n",
      "\u001b[1m> Entering new SQLDatabaseChain chain...\u001b[0m\n",
      "Give me the list of players from FC Barcelona, together with the total number of games they played this season and the average minutes per game. Sort by total number of games played.\n",
      "SQLQuery:\u001b[32;1m\u001b[1;3mSELECT players.name, COUNT(appearances.game_id) AS total_games, AVG(appearances.minutes_played) AS avg_minutes_per_game\n",
      "FROM players\n",
      "JOIN appearances ON players.player_id = appearances.player_id\n",
      "JOIN clubs ON appearances.player_current_club_id = clubs.club_id\n",
      "WHERE clubs.name = 'FC Barcelona' AND appearances.date >= '2021-08-01'\n",
      "GROUP BY players.name\n",
      "ORDER BY total_games DESC\n",
      "LIMIT 5\u001b[0m\n",
      "SQLResult: \u001b[33;1m\u001b[1;3m[('Marc-André ter Stegen', 90, 91.0), ('Gavi', 88, 68.67045454545455), ('Sergio Busquets', 87, 82.64367816091954), ('Robert Lewandowski', 83, 86.144578313253), ('Frenkie de Jong', 81, 74.77777777777777)]\u001b[0m\n",
      "Answer:\u001b[32;1m\u001b[1;3mThe list of players from FC Barcelona, together with the total number of games they played this season and the average minutes per game, sorted by total number of games played, is:\n",
      "- Marc-André ter Stegen played 90 games with an average of 91 minutes per game.\n",
      "- Gavi played 88 games with an average of 68.67 minutes per game.\n",
      "- Sergio Busquets played 87 games with an average of 82.64 minutes per game.\n",
      "- Robert Lewandowski played 83 games with an average of 86.14 minutes per game.\n",
      "- Frenkie de Jong played 81 games with an average of 74.78 minutes per game.\u001b[0m\n",
      "\u001b[1m> Finished chain.\u001b[0m\n"
     ]
    },
    {
     "data": {
      "text/plain": [
       "'The list of players from FC Barcelona, together with the total number of games they played this season and the average minutes per game, sorted by total number of games played, is:\\n- Marc-André ter Stegen played 90 games with an average of 91 minutes per game.\\n- Gavi played 88 games with an average of 68.67 minutes per game.\\n- Sergio Busquets played 87 games with an average of 82.64 minutes per game.\\n- Robert Lewandowski played 83 games with an average of 86.14 minutes per game.\\n- Frenkie de Jong played 81 games with an average of 74.78 minutes per game.'"
      ]
     },
     "execution_count": 7,
     "metadata": {},
     "output_type": "execute_result"
    }
   ],
   "source": [
    "agent_executor.run(\"Give me the list of players from FC Barcelona, together with the total number of games they played this season and the average minutes per game. Sort by total number of games played.\")"
   ]
  },
  {
   "cell_type": "code",
   "execution_count": 90,
   "metadata": {},
   "outputs": [
    {
     "name": "stdout",
     "output_type": "stream",
     "text": [
      "\n",
      "\n",
      "\u001b[1m> Entering new AgentExecutor chain...\u001b[0m\n",
      "\u001b[32;1m\u001b[1;3mAction: list_tables_sql_db\n",
      "Action Input: \"\"\u001b[0m\n",
      "Observation: \u001b[38;5;200m\u001b[1;3mclubs, player_valuations, club_games, games, appearances, players, game_events\u001b[0m\n",
      "Thought:\u001b[32;1m\u001b[1;3mI can query the tables \"games\", \"appearances\", and \"players\" to find the information I need.\n",
      "Action: schema_sql_db\n",
      "Action Input: \"games, appearances, players\"\u001b[0m\n",
      "Observation: \u001b[33;1m\u001b[1;3m\n",
      "CREATE TABLE appearances (\n",
      "\tappearance_id VARCHAR, \n",
      "\tgame_id INTEGER, \n",
      "\tplayer_id INTEGER, \n",
      "\tplayer_club_id INTEGER, \n",
      "\tplayer_current_club_id VARCHAR, \n",
      "\tdate DATE, \n",
      "\tplayer_name VARCHAR, \n",
      "\tcompetition_id VARCHAR, \n",
      "\tyellow_cards INTEGER, \n",
      "\tred_cards INTEGER, \n",
      "\tgoals INTEGER, \n",
      "\tassists INTEGER, \n",
      "\tminutes_played INTEGER\n",
      ")\n",
      "\n",
      "/*\n",
      "3 rows from appearances table:\n",
      "appearance_id\tgame_id\tplayer_id\tplayer_club_id\tplayer_current_club_id\tdate\tplayer_name\tcompetition_id\tyellow_cards\tred_cards\tgoals\tassists\tminutes_played\n",
      "\n",
      "*/\n",
      "\n",
      "\n",
      "CREATE TABLE games (\n",
      "\tgame_id VARCHAR, \n",
      "\tcompetition_id VARCHAR, \n",
      "\tseason VARCHAR, \n",
      "\tround VARCHAR, \n",
      "\tdate DATE, \n",
      "\thome_club_id INTEGER, \n",
      "\taway_club_id INTEGER, \n",
      "\thome_club_goals INTEGER, \n",
      "\taway_club_goals INTEGER, \n",
      "\thome_club_position INTEGER, \n",
      "\taway_club_position INTEGER, \n",
      "\thome_club_manager_name VARCHAR, \n",
      "\taway_club_manager_name VARCHAR, \n",
      "\tstadium VARCHAR, \n",
      "\tattendance INTEGER, \n",
      "\treferee VARCHAR, \n",
      "\turl VARCHAR, \n",
      "\thome_club_name VARCHAR, \n",
      "\taway_club_name VARCHAR, \n",
      "\taggregate VARCHAR, \n",
      "\tcompetition_type VARCHAR\n",
      ")\n",
      "\n",
      "/*\n",
      "3 rows from games table:\n",
      "game_id\tcompetition_id\tseason\tround\tdate\thome_club_id\taway_club_id\thome_club_goals\taway_club_goals\thome_club_position\taway_club_position\thome_club_manager_name\taway_club_manager_name\tstadium\tattendance\treferee\turl\thome_club_name\taway_club_name\taggregate\tcompetition_type\n",
      "\n",
      "*/\n",
      "\n",
      "\n",
      "CREATE TABLE players (\n",
      "\tplayer_id INTEGER, \n",
      "\tfirst_name VARCHAR, \n",
      "\tlast_name VARCHAR, \n",
      "\tname VARCHAR, \n",
      "\tlast_season VARCHAR, \n",
      "\tcurrent_club_id VARCHAR, \n",
      "\tplayer_code VARCHAR, \n",
      "\tcountry_of_birth VARCHAR, \n",
      "\tcity_of_birth VARCHAR, \n",
      "\tcountry_of_citizenship VARCHAR, \n",
      "\tdate_of_birth DATE, \n",
      "\tsub_position VARCHAR, \n",
      "\tposition VARCHAR, \n",
      "\tfoot VARCHAR, \n",
      "\theight_in_cm INTEGER, \n",
      "\tmarket_value_in_eur INTEGER, \n",
      "\thighest_market_value_in_eur INTEGER, \n",
      "\tcontract_expiration_date TIMESTAMP WITHOUT TIME ZONE, \n",
      "\tagent_name VARCHAR, \n",
      "\timage_url VARCHAR, \n",
      "\turl VARCHAR, \n",
      "\tcurrent_club_domestic_competition_id VARCHAR, \n",
      "\tcurrent_club_name VARCHAR\n",
      ")\n",
      "\n",
      "/*\n",
      "3 rows from players table:\n",
      "player_id\tfirst_name\tlast_name\tname\tlast_season\tcurrent_club_id\tplayer_code\tcountry_of_birth\tcity_of_birth\tcountry_of_citizenship\tdate_of_birth\tsub_position\tposition\tfoot\theight_in_cm\tmarket_value_in_eur\thighest_market_value_in_eur\tcontract_expiration_date\tagent_name\timage_url\turl\tcurrent_club_domestic_competition_id\tcurrent_club_name\n",
      "\n",
      "*/\u001b[0m\n",
      "Thought:\u001b[32;1m\u001b[1;3mI can query the \"appearances\" table to find the game where Lionel Messi scored the most goals. I can join the \"games\" table to get the home and away club names, game ID, and game date. I can also join the \"players\" table to get Lionel Messi's player ID.\n",
      "Action: query_checker_sql_db\n",
      "Action Input: SELECT appearances.game_id, games.home_club_name, games.away_club_name, appearances.date, appearances.goals\n",
      "FROM appearances\n",
      "JOIN games ON appearances.game_id = games.game_id\n",
      "JOIN players ON appearances.player_id = players.player_id\n",
      "WHERE players.name = 'Lionel Messi'\n",
      "ORDER BY appearances.goals DESC\n",
      "LIMIT 1\u001b[0m\n",
      "Observation: \u001b[31;1m\u001b[1;3mThe original query does not contain any common mistakes. Here is the reproduced original query:\n",
      "\n",
      "SELECT appearances.game_id, games.home_club_name, games.away_club_name, appearances.date, appearances.goals\n",
      "FROM appearances\n",
      "JOIN games ON appearances.game_id = games.game_id\n",
      "JOIN players ON appearances.player_id = players.player_id\n",
      "WHERE players.name = 'Lionel Messi'\n",
      "ORDER BY appearances.goals DESC\n",
      "LIMIT 1\u001b[0m\n",
      "Thought:\u001b[32;1m\u001b[1;3mThe query is correct and will return the game where Lionel Messi scored the most goals.\n",
      "Action: query_sql_db\n",
      "Action Input: SELECT appearances.game_id, games.home_club_name, games.away_club_name, appearances.date, appearances.goals\n",
      "FROM appearances\n",
      "JOIN games ON appearances.game_id = games.game_id\n",
      "JOIN players ON appearances.player_id = players.player_id\n",
      "WHERE players.name = 'Lionel Messi'\n",
      "ORDER BY appearances.goals DESC\n",
      "LIMIT 1\u001b[0m\n",
      "Observation: \u001b[36;1m\u001b[1;3mError: (duckdb.CatalogException) Catalog Error: Table with name appearances does not exist!\n",
      "Did you mean \"dev.appearances\"?\n",
      "[SQL: SELECT appearances.game_id, games.home_club_name, games.away_club_name, appearances.date, appearances.goals\n",
      "FROM appearances\n",
      "JOIN games ON appearances.game_id = games.game_id\n",
      "JOIN players ON appearances.player_id = players.player_id\n",
      "WHERE players.name = 'Lionel Messi'\n",
      "ORDER BY appearances.goals DESC\n",
      "LIMIT 1]\n",
      "(Background on this error at: https://sqlalche.me/e/20/f405)\u001b[0m\n",
      "Thought:\u001b[32;1m\u001b[1;3mThe query failed because the table name \"appearances\" does not exist. I need to use the correct table name.\n",
      "Action: query_checker_sql_db\n",
      "Action Input: SELECT dev.appearances.game_id, games.home_club_name, games.away_club_name, dev.appearances.date, dev.appearances.goals\n",
      "FROM dev.appearances\n",
      "JOIN dev.games ON dev.appearances.game_id = dev.games.game_id\n",
      "JOIN dev.players ON dev.appearances.player_id = dev.players.player_id\n",
      "WHERE dev.players.name = 'Lionel Messi'\n",
      "ORDER BY dev.appearances.goals DESC\n",
      "LIMIT 1\u001b[0m\n",
      "Observation: \u001b[31;1m\u001b[1;3mThe original query appears to be correct and does not contain any common mistakes. Here is the reproduced query:\n",
      "\n",
      "```sql\n",
      "SELECT dev.appearances.game_id, games.home_club_name, games.away_club_name, dev.appearances.date, dev.appearances.goals\n",
      "FROM dev.appearances\n",
      "JOIN dev.games ON dev.appearances.game_id = dev.games.game_id\n",
      "JOIN dev.players ON dev.appearances.player_id = dev.players.player_id\n",
      "WHERE dev.players.name = 'Lionel Messi'\n",
      "ORDER BY dev.appearances.goals DESC\n",
      "LIMIT 1\n",
      "```\u001b[0m\n",
      "Thought:\u001b[32;1m\u001b[1;3mThe query is correct and will return the game where Lionel Messi scored the most goals.\n",
      "Action: query_sql_db\n",
      "Action Input: SELECT dev.appearances.game_id, games.home_club_name, games.away_club_name, dev.appearances.date, dev.appearances.goals\n",
      "FROM dev.appearances\n",
      "JOIN dev.games ON dev.appearances.game_id = dev.games.game_id\n",
      "JOIN dev.players ON dev.appearances.player_id = dev.players.player_id\n",
      "WHERE dev.players.name = 'Lionel Messi'\n",
      "ORDER BY dev.appearances.goals DESC\n",
      "LIMIT 1\u001b[0m\n",
      "Observation: \u001b[36;1m\u001b[1;3m[(1174225, 'FC Barcelona', None, datetime.date(2012, 3, 7), 5)]\u001b[0m\n",
      "Thought:\u001b[32;1m\u001b[1;3mThe game where Lionel Messi scored the most goals is game ID 1174225. The home club is FC Barcelona, the away club is None, the game date is March 7, 2012, and Lionel Messi scored 5 goals in that game.\n",
      "Final Answer: The game where Lionel Messi scored the most goals is game ID 1174225. The home club is FC Barcelona, the away club is None, the game date is March 7, 2012, and Lionel Messi scored 5 goals in that game.\u001b[0m\n",
      "\n",
      "\u001b[1m> Finished chain.\u001b[0m\n"
     ]
    },
    {
     "data": {
      "text/plain": [
       "'The game where Lionel Messi scored the most goals is game ID 1174225. The home club is FC Barcelona, the away club is None, the game date is March 7, 2012, and Lionel Messi scored 5 goals in that game.'"
      ]
     },
     "execution_count": 90,
     "metadata": {},
     "output_type": "execute_result"
    }
   ],
   "source": [
    "# Find the game in which Lionel Messi scored the most goals and give the name of the home team, the name of the away team, \n",
    "# the game ID, the time of the game and the number of goals scored by Lionel Messi in that game.\n",
    "agent_executor.run(\"找出Lionel Messi进球最多的一场比赛，并给出这场比赛的主场球队名称，客场球队名称，比赛ID，比赛时间和Lionel Messi的进球数\")"
   ]
  }
 ],
 "metadata": {
  "kernelspec": {
   "display_name": ".venv",
   "language": "python",
   "name": "python3"
  },
  "language_info": {
   "codemirror_mode": {
    "name": "ipython",
    "version": 3
   },
   "file_extension": ".py",
   "mimetype": "text/x-python",
   "name": "python",
   "nbconvert_exporter": "python",
   "pygments_lexer": "ipython3",
   "version": "3.8.13"
  },
  "orig_nbformat": 4
 },
 "nbformat": 4,
 "nbformat_minor": 2
}
